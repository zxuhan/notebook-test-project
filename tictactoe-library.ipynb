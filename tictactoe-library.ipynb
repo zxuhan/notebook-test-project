{
 "cells": [
  {
   "cell_type": "markdown",
   "metadata": {},
   "source": [
    "# Tic-Tac-Toe Library Tutorial\n",
    "\n",
    "This notebook demonstrates how to use the Tic-Tac-Toe library to create games programmatically.\n",
    "\n",
    "The library consists of:\n",
    "- `Board.kt` - Board management\n",
    "- `Game.kt` - Game logic\n",
    "- `Mark.kt`, `GameState.kt`, `PlayerType.kt` - Enums\n",
    "- `Player.kt` - Player data class\n",
    "- `ComputerPlayer.kt` - AI logic"
   ]
  },
  {
   "metadata": {},
   "cell_type": "code",
   "source": [
    "// Import the library classes\n",
    "import org.jetbrains.kotlinx.tictactoe.*\n",
    "\n",
    "fun printBoard(board: List<Mark?>) {\n",
    "    println(\"-------------\")\n",
    "    for (row in 0..2) {\n",
    "        print(\"| \")\n",
    "        for (col in 0..2) {\n",
    "            val index = row * 3 + col\n",
    "            val mark = board[index]\n",
    "            val display = when (mark) {\n",
    "                Mark.X -> \"X\"\n",
    "                Mark.O -> \"O\"\n",
    "                null -> (index + 1).toString()\n",
    "            }\n",
    "            print(\"$display | \")\n",
    "        }\n",
    "        println()\n",
    "        println(\"-------------\")\n",
    "    }\n",
    "    println()\n",
    "}"
   ],
   "outputs": [],
   "execution_count": null
  },
  {
   "cell_type": "markdown",
   "metadata": {},
   "source": [
    "## 1. Basic Game Creation & Viewing the Board\n",
    "\n",
    "Let's start by creating a simple game and making some moves.\n",
    "You can get the current board state and display it however you like."
   ]
  },
  {
   "cell_type": "code",
   "metadata": {},
   "source": [
    "// Create a new game\n",
    "val game = Game()\n",
    "\n",
    "println(\"Game created!\")\n",
    "printBoard(game.getCurrentBoard()) // Print the board\n",
    "println(\"Current player: ${game.getCurrentPlayer()}\")\n",
    "println(\"Game state: ${game.getGameState()}\")"
   ],
   "outputs": [],
   "execution_count": null
  },
  {
   "metadata": {},
   "cell_type": "markdown",
   "source": [
    "## 2. Making Moves\n",
    "\n",
    "The board positions are numbered 1-9:\n",
    "```\n",
    "1 | 2 | 3\n",
    "---------\n",
    "4 | 5 | 6\n",
    "---------\n",
    "7 | 8 | 9\n",
    "```"
   ]
  },
  {
   "metadata": {},
   "cell_type": "code",
   "source": [
    "game.reset()\n",
    "// X plays center\n",
    "println(\"Current player: ${game.getCurrentPlayer()}\")\n",
    "game.makeMove(5)\n",
    "println(\"X plays position 5: \")\n",
    "printBoard(game.getCurrentBoard())\n",
    "\n",
    "// O plays top-left\n",
    "println(\"Current player: ${game.getCurrentPlayer()}\")\n",
    "game.makeMove(1)\n",
    "println(\"O plays position 1: \")\n",
    "printBoard(game.getCurrentBoard())"
   ],
   "outputs": [],
   "execution_count": null
  },
  {
   "cell_type": "markdown",
   "metadata": {},
   "source": [
    "## 3. Complete Game Example\n",
    "\n",
    "Let's play a complete game to see how win detection works."
   ]
  },
  {
   "cell_type": "code",
   "metadata": {},
   "source": [
    "game.reset()\n",
    "println(\"Starting new game!\\n\")\n",
    "\n",
    "// X wins with top row\n",
    "game.makeMove(1) // X\n",
    "game.makeMove(4) // O\n",
    "game.makeMove(2) // X\n",
    "game.makeMove(5) // O\n",
    "game.makeMove(3) // X\n",
    "\n",
    "printBoard(game.getCurrentBoard())\n",
    "\n",
    "println(\"Game state: ${game.getGameState()}\")\n",
    "println(\"Winner: ${game.getWinner()}\")"
   ],
   "outputs": [],
   "execution_count": null
  },
  {
   "cell_type": "markdown",
   "metadata": {},
   "source": [
    "## 4. Using Random Computer Player\n",
    "\n",
    "The library includes a computer player that makes random valid moves."
   ]
  },
  {
   "cell_type": "code",
   "metadata": {},
   "source": [
    "game.reset()\n",
    "println(\"Human vs Random Computer\\n\")\n",
    "\n",
    "// Human plays\n",
    "game.makeMove(5)\n",
    "println(\"Human (X) plays center\")\n",
    "printBoard(game.getCurrentBoard())\n",
    "\n",
    "// Computer plays randomly\n",
    "ComputerPlayer.makeRandomMove(game)\n",
    "println(\"Computer (O) makes random move\")\n",
    "printBoard(game.getCurrentBoard())"
   ],
   "outputs": [],
   "execution_count": null
  },
  {
   "cell_type": "markdown",
   "metadata": {},
   "source": [
    "## 5. Using AI Computer Player\n",
    "\n",
    "The AI player uses the minimax algorithm to make optimal moves."
   ]
  },
  {
   "cell_type": "code",
   "metadata": {},
   "source": [
    "game.reset()\n",
    "println(\"Human vs AI Computer\\n\")\n",
    "\n",
    "// AI will take the immediate win\n",
    "game.makeMove(1) // X\n",
    "game.makeMove(4) // O\n",
    "game.makeMove(2) // X\n",
    "game.makeMove(5) // O\n",
    "game.makeMove(7) // X\n",
    "\n",
    "// AI responds optimally to win(should play 6)\n",
    "ComputerPlayer.makeAIMove(game)\n",
    "println(\"AI (O) makes optimal move\")\n",
    "printBoard(game.getCurrentBoard())\n",
    "\n",
    "println(\"Game state: ${game.getGameState()}\")\n",
    "println(\"Winner: ${game.getWinner()}\")"
   ],
   "outputs": [],
   "execution_count": null
  }
 ],
 "metadata": {
  "kernelspec": {
   "display_name": "Kotlin",
   "language": "kotlin",
   "name": "kotlin"
  },
  "language_info": {
   "name": "kotlin",
   "version": "1.9.0"
  },
  "ktnbPluginMetadata": {
   "projectLibraries": false,
   "projectDependencies": [
    "notebook-test-project.lib.main"
   ]
  }
 },
 "nbformat": 4,
 "nbformat_minor": 4
}
